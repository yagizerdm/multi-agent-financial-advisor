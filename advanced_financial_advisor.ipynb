{
 "cells": [
  {
   "cell_type": "code",
   "execution_count": 1,
   "metadata": {},
   "outputs": [],
   "source": [
    "# Standard library imports\n",
    "import os\n",
    "from typing import List\n",
    "from typing_extensions import TypedDict\n",
    "\n",
    "# Environment variables\n",
    "from dotenv import load_dotenv\n",
    "\n",
    "# Third-party library imports\n",
    "from pprint import pprint\n",
    "\n",
    "# LangChain imports\n",
    "from langchain.prompts import PromptTemplate\n",
    "from langchain.schema import Document\n",
    "from langchain_core.output_parsers import JsonOutputParser\n",
    "from langchain_groq import ChatGroq\n",
    "\n",
    "# LangGraph imports\n",
    "from langgraph.graph import END, StateGraph\n",
    "\n",
    "# Community tools\n",
    "from langchain_community.tools.tavily_search import TavilySearchResults"
   ]
  },
  {
   "cell_type": "code",
   "execution_count": 2,
   "metadata": {
    "id": "1vuXiAbk-0iM"
   },
   "outputs": [],
   "source": [
    "load_dotenv()\n",
    "\n",
    "groq_api_key = os.environ.get(\"GROQ_API_KEY\")\n",
    "tavily_api_key = os.environ.get(\"TAVILY_API_KEY\")"
   ]
  },
  {
   "cell_type": "code",
   "execution_count": null,
   "metadata": {
    "id": "fq2M1flb-2G6"
   },
   "outputs": [],
   "source": [
    "### Tracing (optional)\n",
    "\n",
    "\n",
    "# os.environ['LANGCHAIN TRACING V2'] = 'true'\n",
    "# os.environ['LANGCHAIN_ENDPOINT'] = 'https://api.smith.langchain.com'\n",
    "# os.environ['LANGCHAIN API KEY'] = userdata.get('LANGCHAIN_API_KEY')"
   ]
  },
  {
   "cell_type": "code",
   "execution_count": 3,
   "metadata": {
    "id": "WBjeKOWD-39Z"
   },
   "outputs": [],
   "source": [
    "GROQ_LLM = ChatGroq(\n",
    "            model=\"llama-3.1-70b-versatile\",\n",
    "        )"
   ]
  },
  {
   "cell_type": "code",
   "execution_count": 4,
   "metadata": {
    "id": "kfYew8ZI2Do-"
   },
   "outputs": [],
   "source": [
    "### Search\n",
    "web_search_tool = TavilySearchResults(k=1)"
   ]
  },
  {
   "cell_type": "code",
   "execution_count": 5,
   "metadata": {
    "colab": {
     "base_uri": "https://localhost:8080/"
    },
    "id": "bj_lx4BsDpLz",
    "outputId": "0827018b-658d-483a-f103-38218e22d9f0"
   },
   "outputs": [
    {
     "name": "stdout",
     "output_type": "stream",
     "text": [
      "{'categorized_results': {'stock': 'AAPL', 'risk_tolerance': 'Medium', 'trading_strategy': 'Long-Term'}}\n"
     ]
    }
   ],
   "source": [
    "prompt = PromptTemplate(\n",
    "    template=\"\"\"<|begin_of_text|><|start_header_id|>system<|end_header_id|>\n",
    "\n",
    "You are an expert in understanding financial trading preferences based on user inputs and extracting key information. Your task is to read the USER_MESSAGE and identify the following elements:\n",
    "- stock_ticker: The stock symbol the user is interested in (if specified).\n",
    "- risk_tolerance: The user's level of risk tolerance (e.g., Very Low, Low, Medium, High, Very High or something else).\n",
    "- trading_strategy: The user's preferred trading strategy (e.g., Long-Term, Short-Term, Swing, Day Trading etc.).\n",
    "\n",
    "If any of the above elements are not specified in the user message, return null for that element.\n",
    "\n",
    "Provide a JSON object with a single key 'categorized_results' that contains the extracted 'stock_ticker', 'risk_tolerance', and 'trading_strategy' elements. This means your task is to return a single-key JSON object containing the 'categorized_results' key. Inside the 'categorized_results' key, there should be the keys 'stock', 'risk_tolerance', and 'trading_strategy' with the values you identified in return. Do not add any preamble or explanation beyond this JSON object.<|eot_id|><|start_header_id|>user<|end_header_id|>\n",
    "\n",
    "USER_MESSAGE:\\n\\n{user_message}\\n\\n<|eot_id|><|start_header_id|>assistant<|end_header_id|>\"\"\",\n",
    "    input_variables=[\"user_message\"],\n",
    ")\n",
    "\n",
    "json_generator = prompt | GROQ_LLM | JsonOutputParser()\n",
    "\n",
    "user_message = \"\"\"I am interested in apple stock. I don't want to take a big risk but if it will benefit me in the long run, I am willing to take some risks.\"\"\"\n",
    "\n",
    "categorized_results = json_generator.invoke({\"user_message\": user_message})\n",
    "\n",
    "print(categorized_results)"
   ]
  },
  {
   "cell_type": "code",
   "execution_count": 6,
   "metadata": {
    "colab": {
     "base_uri": "https://localhost:8080/"
    },
    "id": "CFEXGo0rBIna",
    "outputId": "c2a3c4fb-345a-4e6e-8e92-2e0748c878ca"
   },
   "outputs": [
    {
     "name": "stdout",
     "output_type": "stream",
     "text": [
      "{'search_prompts': ['Current stock price and historical trends of AAPL', 'Long-term price predictions for AAPL', \"Financial analysts' analysis and forecasts for AAPL\", 'Recent news and developments affecting AAPL', 'Risk management strategies for medium-risk long-term investments in technology stocks']}\n"
     ]
    }
   ],
   "source": [
    "search_keyword_prompt = PromptTemplate(\n",
    "    template=\"\"\"<|begin_of_text|><|start_header_id|>system<|end_header_id|>\n",
    "\n",
    "As an expert in financial market data retrieval, your task is to determine the best search prompts for gathering relevant information based on the user inputs. These search prompts will be used to collect data necessary for subsequent financial analysis.\n",
    "\n",
    "Given the USER_MESSAGE and CATEGORIZED_RESULTS which include STOCK_TICKER, RISK_TOLERANCE, and TRADING_STRATEGY, identify the search prompts that will yield the most relevant market data. Each search prompt should aim to gather specific information that will aid in financial analysis.\n",
    "\n",
    "You should look for:\n",
    "1. Current stock price and historical price trends for STOCK_TICKER.\n",
    "2. Market trend predictions related to STOCK_TICKER considering the specified TRADING_STRATEGY. For example, if the specified TRADING_STRATEGY is 'Day Trading', look for the price predictions of STOCK_TICKER over 24 hours. If the specified TRADING_STRATEGY is 'Long-Term Investment', look for the price predictions of STOCK_TICKER over the long term.\n",
    "3. Analysis and predictions from financial analysts for STOCK_TICKER.\n",
    "4. News and recent developments affecting STOCK_TICKER.\n",
    "5. Risk assessment and management strategies relevant to the specified RISK_TOLERANCE and TRADING_STRATEGY.\n",
    "\n",
    "Provide a JSON object with a single key 'search_prompts', containing a total of 5 prompts. Do not include any preamble or explanation.<|eot_id|><|start_header_id|>user<|end_header_id|>\n",
    "\n",
    "USER_MESSAGE: {user_message}\n",
    "\n",
    "CATEGORIZED_RESULTS: {categorized_results}\\n\\n<|eot_id|><|start_header_id|>assistant<|end_header_id|>\"\"\",\n",
    "    input_variables=[\"user_message\", \"categorized_results\"],\n",
    ")\n",
    "\n",
    "search_keyword_chain = search_keyword_prompt | GROQ_LLM | JsonOutputParser()\n",
    "\n",
    "search_prompts = search_keyword_chain.invoke({\"user_message\": user_message, \"categorized_results\": categorized_results})\n",
    "\n",
    "print(search_prompts)"
   ]
  },
  {
   "cell_type": "code",
   "execution_count": 7,
   "metadata": {
    "colab": {
     "base_uri": "https://localhost:8080/"
    },
    "id": "9T-x_pm02fu7",
    "outputId": "85a25d24-9572-4129-d8ad-7fd76867e421"
   },
   "outputs": [
    {
     "name": "stdout",
     "output_type": "stream",
     "text": [
      "Current stock price and historical trends of AAPL\n",
      "Long-term price predictions for AAPL\n",
      "Financial analysts' analysis and forecasts for AAPL\n",
      "Recent news and developments affecting AAPL\n",
      "Risk management strategies for medium-risk long-term investments in technology stocks\n",
      "[Document(metadata={}, page_content='Historical daily share price chart and data for Apple since 1980 adjusted for splits and dividends. The latest closing stock price for Apple as of October 28, 2024 is 233.40.. The all-time high Apple stock closing price was 236.48 on October 21, 2024.; The Apple 52-week high stock price is 237.49, which is 1.8% above the current share price.; The Apple 52-week low stock price is 164.07, which\\nGet a complete stock price history for Apple, starting from its first trading day. Includes open, high, low, close and volume. ... Apple Inc. (AAPL) NASDAQ: AAPL · Real-Time Price · USD. Watchlist Compare. 231.41 +0.84 (0.36%) At close: Oct 25, 2024, 4:00 PM. 230.86-.55 (-0.24%)\\nFind the latest historical data for Apple Inc. Common Stock (AAPL) at Nasdaq.com. View historical data in a monthly, bi-annual, or yearly format.\\nDiscover real-time Apple Inc. Common Stock (AAPL) stock prices, quotes, historical data, news, and Insights for informed trading and investment decisions. Stay ahead with Nasdaq.\\nGet Apple Inc historical price data for AAPL stock. Investing.com has all the historical stock data including the closing price, open, high, low, change and % change.'), Document(metadata={}, page_content=\"Long-term AAPL price forecast for 2025, 2030, 2035, 2040, 2045 and 2050. Based on our analysis about Apple Inc financial reports and earnings history, Apple Inc (AAPL) stock could reach $299.14 by 2030, $1,221.47 by 2040 and $1,589.26 by 2050. See the projected annual prices until 2050 of the Apple Inc stock below:\\nStock Price Forecast. The 32 analysts with 12-month price forecasts for Apple stock have an average target of 239.44, with a low estimate of 180 and a high estimate of 300. The average target predicts an increase of 4.41% from the current stock price of 229.33.\\nAccording to . 29 Wall Street analysts that have issued a 1 year AAPL price target, the average AAPL price target is $243.69, with the highest AAPL stock price forecast at $300.00 and the lowest AAPL stock price forecast at $186.00.\\nAccording to the 36 analysts' twelve-month price targets for Apple, the average price target is $235.91. The highest price target for AAPL is $300.00, while the lowest price target for AAPL is $180.00. The average price target represents a forecasted upside of 2.75% from the current price of $229.59.\\nWe raise our fair value estimate for wide-moat Apple AAPL to $200 from $185 as we raise our longer-term growth expectations. We've also revised down our short-term forecast for iPhone revenue to\"), Document(metadata={}, page_content='Stock Analysis Pro. Watchlist. Collapse. Apple Inc. (AAPL) NASDAQ: AAPL · Real-Time Price · USD. ... The 32 analysts with 12-month price forecasts for Apple stock have an average target of 239.44, with a low estimate of 180 and a high estimate of 300. ... Financial Forecast. Annual Quarterly. Download. Revenue This Year. 398.18B . from 383\\nSee Apple Inc. (AAPL) stock analyst estimates, including earnings and revenue, EPS, upgrades and downgrades.\\nNeedham: Buy to Buy. 9/24/2024. See Apple Inc. (AAPL) stock analyst estimates, including earnings and revenue, EPS, upgrades and downgrades.\\nAnalyst Rating Summary1\\nAnalyst Firms Making Recommendations1\\n1calculated from analyst ratings published within the last 3 years\\nAnalyst Ratings for Apple\\nUpgrades (0)\\nDowngrades (8)\\nInitiations (2)\\n When is the next analyst rating going to be posted or updated for Apple (AAPL)?\\nAnalysts arrive at stock ratings after doing extensive research, which includes going through public financial statements, talking to executives and customers of Apple, and listening in to earnings conference calls. The last rating for Apple was filed on January 10, 2024 so you should expect the next rating to be made available sometime around January 10, 2025.\\n The latest analyst rating for Apple (NASDAQ: AAPL) was provided by Redburn Atlantic, and Apple downgraded their neutral rating.\\n Apple Stock (NASDAQ:AAPL), Analyst Ratings, Price Targets, Predictions\\nAnalysts publish ratings and price targets on most stocks.\\nBased on analysts offering 12 month price targets for AAPL in the last 3 months. The average price target is $ 0.00 with a high estimate of $ 0.00 and a low estimate of $ 0.00 .'), Document(metadata={}, page_content='Here’s a closer look at what’s ahead for Apple:\\nProblems in China\\nOne of Apple’s biggest hurdles this year will be addressing the market in China, the world’s second-largest economy.\\n An ongoing patent battle\\nOne of Apple’s most popular products, the Apple Watch, remains currently banned in the US, as one of the most momentous patent disputes in quite some time continues to unfold.\\n Much of Apple’s app store revenue comes from the 30% cut it receives through its payment channels from in-app sales of digital goods and services, so the provisions could directly affect the company’s business model.\\n That ITC order prevented Apple from importing the Apple Watch Series 9, Apple Watch Ultra 2 and other more recent models to the US because it was in violation of medical company Masimo’s pulse oximeter patent.\\n “Being Apple, which is still the largest company in the world by market cap, I’m sure it will do all it can to minimize the impact of these problem areas,” said David McQueen, a director at ABI Research.\\nBuilding on this satellite infrastructure, Apple recently introduced Roadside Assistance via satellite to connect users to AAA if they have car trouble while outside of cellular and Wi-Fi coverage.2\\xa0 Other safety capabilities that can provide assistance when it matters most include:\\nPress Contacts\\nBlair Ranger\\nApple\\nblair_ranger@apple.com\\nApple Media Helpline\\nmedia.help@apple.com\\nApple Stories\\nMore from Newsroom\\nApple Footer\\nShop and Learn\\nShop and Learn\\n+\\nApple Wallet\\nApple Wallet\\n+\\nAccount\\nAccount\\n+\\nEntertainment\\nEntertainment\\n+\\nApple Store\\nApple Store\\n+\\nFor Business\\nFor Business\\n+\\nFor Education\\nFor Education\\n+\\nFor Healthcare\\nFor Healthcare\\n+\\nFor Government\\nFor Government\\n+\\nApple Values\\nApple Values\\n+\\nAbout Apple\\nAbout Apple\\n+ Press Contacts\\nNick Leahy\\nApple\\nnleahy@apple.com\\nApple Media Helpline\\nmedia.help@apple.com\\nApple extends Emergency SOS via satellite for an additional free year for existing iPhone\\xa014 users\\nText of this article\\nNovember 15, 2023\\nUPDATE\\nApple extends Emergency SOS via satellite for an additional free year for existing iPhone\\xa014 users\\nSince its launch a year ago, this groundbreaking service has made a significant impact around the world\\nOne year ago today, Apple’s groundbreaking safety service Emergency SOS via satellite became available on all iPhone 14 models in the U.S. and Canada. Newsroom\\nLatest News\\nApple announces expanded partnership with Amkor for advanced silicon packaging in the U.S.\\nText of this article\\nNovember 30, 2023\\nUPDATE\\nApple announces expanded partnership with Amkor for advanced silicon packaging in the U.S.\\n From a man who was rescued after his car plummeted over a 400-foot cliff in Los Angeles, to lost hikers found in the Apennine Mountains in Italy, we continue to hear stories of our customers being able to connect with emergency responders when they otherwise wouldn’t have been able to,” said Kaiann Drance, Apple’s vice president of Worldwide iPhone Product Marketing. “Apple silicon has unlocked new levels of performance for our users, enabling them to do things they could never do before, and we are thrilled that Apple silicon will soon be produced and packaged in Arizona.”\\n\\nGet the latest Apple Inc. (AAPL) stock news and headlines to help you in your trading and investing decisions.\\nApple\\'s shares rose 2.5% to a record high on Monday after Morgan Stanley raised its price target on the iPhone maker\\'s shares and designated the stock as a \"top pick,\" citing the company\\'s AI\\nFind the latest Apple Inc. (AAPL) stock quote, history, news and other vital information to help you with your stock trading and investing.'), Document(metadata={}, page_content=\"Implementing effective risk management strategies can help investors protect their wealth, optimize returns, and improve long-term investment performance. Portfolio risk management is an ongoing process that requires regular evaluation and adjustment to ensure that investment strategies continue to align with investors' financial goals and risk\\nWith the S&P 500 at record highs and interest rates at record lows, uncovering medium-risk investments for high returns is a challenge. The Cyclically Adjusted Price Earnings ratio, or CAPE, is at\\nAll investments involve some level of risk, and instead of ignoring it, it can be helpful to gauge your individual risk tolerance, and choose risk management strategies that mesh with your tolerance. Whatever strategy an investor chooses, risk management is critical to keeping hard-earned savings safer and losses to a minimum.\\nRisk management is the process of identifying, assessing, and mitigating potential risks associated with your investments. It involves setting limits on the amount of capital you're willing to\\nMinimizing risk in a portfolio can be achieved by constructing a diversified and balanced mix of stocks, bonds, and cash that matches both your short-term and long-term financial objectives. Additionally, including other asset types like real estate or higher-risk investments can further diversify the portfolio and potentially increase returns.\")]\n",
      "<class 'list'>\n"
     ]
    }
   ],
   "source": [
    "# Web search\n",
    "full_searches = []\n",
    "for keyword in search_prompts['search_prompts']:\n",
    "    print(keyword)\n",
    "    temp_docs = web_search_tool.invoke({\"query\": keyword})\n",
    "    web_results = \"\\n\".join([d[\"content\"] for d in temp_docs])\n",
    "    web_results = Document(page_content=web_results)\n",
    "    if full_searches is not None:\n",
    "        full_searches.append(web_results)\n",
    "    else:\n",
    "        full_searches = [web_results]\n",
    "print(full_searches)\n",
    "print(type(full_searches))"
   ]
  },
  {
   "cell_type": "code",
   "execution_count": 8,
   "metadata": {
    "colab": {
     "base_uri": "https://localhost:8080/"
    },
    "id": "qR9nHWRkCk1b",
    "outputId": "d21a65eb-50a7-461c-a7c8-59fb16296b26"
   },
   "outputs": [
    {
     "name": "stdout",
     "output_type": "stream",
     "text": [
      "{'strategy_analysis': {'suitability': {'analysis': \"Based on the provided research information, the long-term trading strategy for Apple (AAPL) stock is suitable for the user's medium risk tolerance. The user's willingness to take some risks for long-term benefits aligns with the long-term strategy, which focuses on holding the stock for an extended period to ride out market fluctuations.\", 'reasoning': \"The user's medium risk tolerance and the long-term strategy's focus on stability and growth make this strategy suitable.\"}, 'potential_profitability': {'analysis': 'According to the research information, the average 12-month price target for AAPL is $239.44, with a high estimate of $300.00 and a low estimate of $180.00. This suggests that the stock has potential for growth in the long term. Additionally, the long-term price forecast for AAPL predicts a stock price of $299.14 by 2030, $1,221.47 by 2040, and $1,589.26 by 2050.', 'reasoning': 'The potential for growth in the short and long term, as well as the increasing price targets from analysts, suggest that the strategy has potential profitability.'}, 'risks': {'analysis': \"The research information highlights several risks associated with AAPL, including problems in China, an ongoing patent battle, and potential changes to the company's business model. However, the long-term strategy can help mitigate these risks by allowing the user to ride out market fluctuations and focus on the company's overall growth and performance.\", 'reasoning': \"While there are risks associated with AAPL, the long-term strategy can help mitigate these risks and focus on the company's growth and performance.\"}, 'recommendations': {'analysis': \"Based on the analysis, it is recommended to proceed with the long-term trading strategy for AAPL. The user's medium risk tolerance and the strategy's focus on stability and growth make it suitable. Additionally, the potential for growth in the short and long term, as well as the increasing price targets from analysts, suggest that the strategy has potential profitability.\", 'reasoning': \"The user's risk tolerance and the strategy's focus on growth and stability make it a suitable choice. The potential for growth and increasing price targets from analysts also support this recommendation.\"}, 'current_and_projected_prices': {'current_price': '233.40', 'projected_prices': {'short_term': '239.44 (12-month average price target)', 'long_term': '299.14 (2030), 1,221.47 (2040), 1,589.26 (2050)'}}, 'strategy_explanation': {'analysis': \"The long-term trading strategy for AAPL involves holding the stock for an extended period to ride out market fluctuations and focus on the company's overall growth and performance. This strategy is suitable for the user's medium risk tolerance and can help mitigate risks associated with the stock.\", 'reasoning': \"The strategy's focus on growth and stability, as well as its ability to mitigate risks, make it a suitable choice for the user's medium risk tolerance.\"}}}\n"
     ]
    }
   ],
   "source": [
    "strategy_prompt = PromptTemplate(\n",
    "    template=\"\"\"<|begin_of_text|><|start_header_id|>system<|end_header_id|>\n",
    "\n",
    "You are an expert in financial strategy analysis. Your task is to evaluate the feasibility and potential profitability of a specified trading strategy for a given stock, considering the user's risk tolerance and the provided research information.\n",
    "\n",
    "Given the USER_MESSAGE, CATEGORIZED_RESULTS (which include STOCK_TICKER, RISK_TOLERANCE, and TRADING_STRATEGY), and RESEARCH_INFO, assess the following:\n",
    "- How suitable is the specified trading strategy (TRADING_STRATEGY) for the given stock (STOCK_TICKER)?\n",
    "- What are the potential profitability and risks associated with this strategy, given the user's risk tolerance (RISK_TOLERANCE)?\n",
    "- Consider historical performance, technical indicators, and trading signals from the research information (RESEARCH_INFO).\n",
    "\n",
    "Provide a comprehensive and detailed evaluation and recommendation on whether to proceed with the trading strategy. Your analysis should include:\n",
    "\n",
    "1. **Suitability**:\n",
    "   - Assess the suitability of the TRADING_STRATEGY for STOCK_TICKER, considering the user's RISK_TOLERANCE and RESEARCH_INFO.\n",
    "\n",
    "2. **Potential Profitability**:\n",
    "   - Evaluate the potential profitability of STOCK_TICKER if the TRADING_STRATEGY is applied, considering the user's RISK_TOLERANCE and RESEARCH_INFO.\n",
    "\n",
    "3. **Risks**:\n",
    "   - Analyze the risks associated with STOCK_TICKER when applying the TRADING_STRATEGY, considering RESEARCH_INFO. Evaluate if these risks align with the user's RISK_TOLERANCE.\n",
    "\n",
    "4. **Recommendations**:\n",
    "   - Based on your analysis, provide recommendations:\n",
    "     - If the user's RISK_TOLERANCE is low and the projected risks are medium or high, recommend against this investment.\n",
    "     - If the user's RISK_TOLERANCE is medium and the projected risks are medium, advise the user to proceed with caution.\n",
    "     - If the user's RISK_TOLERANCE is high and the projected risks are medium or low, recommend proceeding with the investment.\n",
    "     - For other scenarios, use similar logic to shape your recommendation.\n",
    "\n",
    "5. **Current and Projected Prices**:\n",
    "   - Include the current price of STOCK_TICKER.\n",
    "   - Provide projected price predictions based on the TRADING_STRATEGY:\n",
    "     - For 'Day Trading', provide predictions for the next 24 hours.\n",
    "     - For 'Long-Term Investment', provide long-term price predictions.\n",
    "     - For other scenarios, use similar logic to shape your predictions.\n",
    "     - If confident predictions cannot be made, explain why.\n",
    "\n",
    "6. **Strategy Explanation**:\n",
    "   - If recommending to proceed, explain the strategy in depth, including specific steps and considerations.\n",
    "   - If not recommending to invest, provide a detailed explanation of the reasons and potential risks.\n",
    "\n",
    "Be thorough and specific in your evaluation, avoiding general statements. Tailor your analysis to the specifics of the stock, strategy, and user's risk tolerance. Remember that you are an expert in analysing and developing financial strategies. You must be confident about your answers. You are the decision maker here.\n",
    "\n",
    "Return your findings as a JSON object with a single key 'strategy_analysis' containing your evaluation and recommendation. Do not include any preamble or explanation apart from this JSON object.<|eot_id|><|start_header_id|>user<|end_header_id|>\n",
    "\n",
    "USER_MESSAGE: {user_message}\n",
    "\n",
    "CATEGORIZED_RESULTS: {categorized_results}\n",
    "\n",
    "RESEARCH_INFO: {research_info}\\n\\n<|eot_id|><|start_header_id|>assistant<|end_header_id|>\"\"\",\n",
    "    input_variables=[\"user_message\",\"categorized_results\",\"research_info\"],\n",
    ")\n",
    "\n",
    "strategy_chain = strategy_prompt | GROQ_LLM | JsonOutputParser()\n",
    "\n",
    "strategy_analysis = strategy_chain.invoke({\"user_message\": user_message, \"categorized_results\": categorized_results, \"research_info\": full_searches})\n",
    "\n",
    "print(strategy_analysis)"
   ]
  },
  {
   "cell_type": "code",
   "execution_count": 9,
   "metadata": {
    "colab": {
     "base_uri": "https://localhost:8080/"
    },
    "id": "DwJnU43e5amL",
    "outputId": "69dc6c69-b1c3-4a85-d4ae-8c82e068250e"
   },
   "outputs": [
    {
     "name": "stdout",
     "output_type": "stream",
     "text": [
      "{'risk_assessment': {'identification_of_risks': {'specific_risks': ['Problems in China', 'Ongoing patent battle', \"Potential changes to the company's business model\"], 'reasoning': 'These risks are identified based on the research information provided, which highlights these factors as potential risks associated with AAPL.'}, 'potential_financial_impact': {'analysis': \"The potential financial impact of these risks is difficult to quantify, but they could potentially lead to a decline in AAPL's stock price. However, the long-term strategy can help mitigate these risks by allowing the user to ride out market fluctuations and focus on the company's overall growth and performance.\", 'reasoning': 'The potential financial impact of these risks is uncertain, but the long-term strategy can help mitigate them.'}, 'alignment_with_user_risk_tolerance': {'analysis': \"The user's medium risk tolerance aligns with the long-term strategy, which focuses on stability and growth. The user's willingness to take some risks for long-term benefits makes this strategy suitable.\", 'reasoning': \"The user's risk tolerance and the strategy's focus on growth and stability make it a suitable choice.\"}, 'final_risk_assessment': {'conclusion': \"Based on the analysis, it is recommended to proceed with the long-term trading strategy for AAPL. The user's medium risk tolerance and the strategy's focus on stability and growth make it suitable. Additionally, the potential for growth in the short and long term, as well as the increasing price targets from analysts, suggest that the strategy has potential profitability.\", 'reasoning': \"The user's risk tolerance and the strategy's focus on growth and stability make it a suitable choice. The potential for growth and increasing price targets from analysts also support this recommendation.\"}}}\n"
     ]
    }
   ],
   "source": [
    "risk_assessment_prompt = PromptTemplate(\n",
    "    template=\"\"\"<|begin_of_text|><|start_header_id|>system<|end_header_id|>\n",
    "\n",
    "You are an expert in financial risk assessment. Your task is to evaluate the risks associated with the specified trading strategy for the given stock, considering the user's risk tolerance, the research information, and the strategy analysis provided.\n",
    "\n",
    "Given the USER_MESSAGE, CATEGORIZED_RESULTS which includes STOCK_TICKER, RISK_TOLERANCE, and TRADING_STRATEGY, RESEARCH_INFO, and STRATEGY_ANALYSIS, assess the following:\n",
    "- Identify and evaluate specific risks associated with the trading strategy (TRADING_STRATEGY) for the stock (STOCK_TICKER).\n",
    "- Consider market volatility, potential loss, historical risk factors, and any external factors mentioned in the research information (RESEARCH_INFO).\n",
    "- Assess how these risks align with the user's risk tolerance (RISK_TOLERANCE).\n",
    "- Use the detailed findings from the strategy analysis (STRATEGY_ANALYSIS) to inform your risk evaluation.\n",
    "\n",
    "Provide a comprehensive and detailed risk assessment that includes:\n",
    "1. Identification of specific risks based on RESEARCH_INFO and STRATEGY_ANALYSIS.\n",
    "2. The potential financial impact of these risks, using precise data from the research.\n",
    "3. An assessment of how these risks align with the user's risk tolerance (RISK_TOLERANCE).\n",
    "4. A final risk assessment conclusion, deciding whether to proceed with the trading strategy or not, with clear and data-backed reasoning.\n",
    "\n",
    "Your analysis should be conclusive, clearly deciding whether the trading strategy is suitable based on the risks and the user's tolerance. Avoid general advice or vague recommendations, and provide a clear decision and explanation based on the provided data.\n",
    "\n",
    "Return your findings as a JSON object with a single key 'risk_assessment' containing your detailed risk evaluation. Do not include any preamble or explanation apart from this JSON object.<|eot_id|><|start_header_id|>user<|end_header_id|>\n",
    "\n",
    "USER_MESSAGE: {user_message}\n",
    "\n",
    "CATEGORIZED_RESULTS: {categorized_results}\n",
    "\n",
    "RESEARCH_INFO: {research_info}\n",
    "\n",
    "STRATEGY_ANALYSIS: {strategy_analysis}\\n\\n<|eot_id|><|start_header_id|>assistant<|end_header_id|>\"\"\",\n",
    "    input_variables=[\"user_message\",\"categorized_results\",\"research_info\",\"strategy_analysis\"],\n",
    ")\n",
    "\n",
    "risk_assessment_chain = risk_assessment_prompt | GROQ_LLM | JsonOutputParser()\n",
    "\n",
    "risk_assessment = risk_assessment_chain.invoke({\"user_message\": user_message, \"categorized_results\": categorized_results, \"research_info\": full_searches, \"strategy_analysis\": strategy_analysis})\n",
    "\n",
    "print(risk_assessment)"
   ]
  },
  {
   "cell_type": "code",
   "execution_count": 10,
   "metadata": {
    "colab": {
     "base_uri": "https://localhost:8080/"
    },
    "id": "bvxcnhXc0SUd",
    "outputId": "2036a327-21fa-4561-a246-25b1a529baac"
   },
   "outputs": [
    {
     "name": "stdout",
     "output_type": "stream",
     "text": [
      "{'sentiment_analysis': {'sentiment': 'Positive', 'explanation': \"Based on the provided research information, strategy analysis, and risk assessment, the overall sentiment towards proceeding with the long-term trading strategy for Apple (AAPL) stock is positive. The user's medium risk tolerance aligns with the long-term strategy, which focuses on stability and growth. The potential for growth in the short and long term, as well as the increasing price targets from analysts, suggest that the strategy has potential profitability. While there are risks associated with AAPL, the long-term strategy can help mitigate these risks and focus on the company's growth and performance. Therefore, it is recommended to proceed with the long-term trading strategy for AAPL.\"}}\n"
     ]
    }
   ],
   "source": [
    "sentiment_prompt = PromptTemplate(\n",
    "    template=\"\"\"<|begin_of_text|><|start_header_id|>system<|end_header_id|>\n",
    "\n",
    "You are an expert in financial sentiment analysis. Your task is to evaluate the overall sentiment regarding the specified trading strategy for the given stock, considering the user's risk tolerance, the research information, the strategy analysis, and the risk assessment provided.\n",
    "\n",
    "Given the USER_MESSAGE, CATEGORIZED_RESULTS which includes STOCK_TICKER, RISK_TOLERANCE, and TRADING_STRATEGY, RESEARCH_INFO, STRATEGY_ANALYSIS, and RISK_ASSESSMENT, assess the following:\n",
    "- Determine the overall sentiment (positive or negative) towards proceeding with the trading strategy.\n",
    "- Base your evaluation on the detailed findings from the research information (RESEARCH_INFO), the strategy analysis (STRATEGY_ANALYSIS), and the risk assessment (RISK_ASSESSMENT).\n",
    "- Provide a clear and concise explanation for your sentiment decision, referencing specific points from the inputs to justify your conclusion.\n",
    "\n",
    "Your analysis should be conclusive and clearly state the overall sentiment. Avoid general advice or ambiguous recommendations. Provide a clear sentiment decision with a detailed explanation based on the provided data. You are the decision maker here.\n",
    "\n",
    "Return your findings as a JSON object with a single key 'sentiment_analysis' containing two fields: 'sentiment' and 'explanation'. Do not include any preamble or explanation apart from this JSON object.<|eot_id|><|start_header_id|>user<|end_header_id|>\n",
    "\n",
    "USER_MESSAGE: {user_message}\n",
    "\n",
    "CATEGORIZED_RESULTS: {categorized_results}\n",
    "\n",
    "RESEARCH_INFO: {research_info}\n",
    "\n",
    "STRATEGY_ANALYSIS: {strategy_analysis}\n",
    "\n",
    "RISK_ASSESSMENT: {risk_assessment}\\n\\n<|eot_id|><|start_header_id|>assistant<|end_header_id|>\"\"\",\n",
    "    input_variables=[\"user_message\",\"categorized_results\",\"research_info\",\"strategy_analysis\",\"risk_assessment\"],\n",
    ")\n",
    "\n",
    "sentiment_chain = sentiment_prompt | GROQ_LLM | JsonOutputParser()\n",
    "\n",
    "sentiment_analysis = sentiment_chain.invoke({\"user_message\": user_message, \"categorized_results\": categorized_results, \"research_info\": full_searches, \"strategy_analysis\": strategy_analysis, \"risk_assessment\": risk_assessment})\n",
    "\n",
    "print(sentiment_analysis)"
   ]
  },
  {
   "cell_type": "code",
   "execution_count": 11,
   "metadata": {
    "colab": {
     "base_uri": "https://localhost:8080/"
    },
    "id": "M4zpiW_92kMB",
    "outputId": "6ae76810-f711-4ee0-d005-b8e8cf8c2187"
   },
   "outputs": [
    {
     "name": "stdout",
     "output_type": "stream",
     "text": [
      "{'final_decision': {'decision': 'proceed', 'explanation': \"Based on the analysis, it is recommended to proceed with the long-term trading strategy for Apple (AAPL) stock. The user's medium risk tolerance aligns with the long-term strategy, which focuses on stability and growth. The potential for growth in the short and long term, as well as the increasing price targets from analysts, suggest that the strategy has potential profitability. While there are risks associated with AAPL, the long-term strategy can help mitigate these risks and focus on the company's growth and performance.\"}}\n"
     ]
    }
   ],
   "source": [
    "decision_prompt = PromptTemplate(\n",
    "    template=\"\"\"<|begin_of_text|><|start_header_id|>system<|end_header_id|>\n",
    "\n",
    "You are the Decision Agent, an expert in financial decision-making. Your task is to make a final decision on whether to proceed with the trading strategy for the given stock, considering all the previous inputs.\n",
    "\n",
    "Given the USER_MESSAGE, CATEGORIZED_RESULTS which includes STOCK_TICKER, RISK_TOLERANCE, and TRADING_STRATEGY, RESEARCH_INFO, STRATEGY_ANALYSIS, RISK_ASSESSMENT, and SENTIMENT_ANALYSIS, assess the following:\n",
    "- Make a confident final decision on whether to proceed with the trading strategy.\n",
    "- Base your decision on the detailed findings from the research information (RESEARCH_INFO), the strategy analysis (STRATEGY_ANALYSIS), the risk assessment (RISK_ASSESSMENT), and the sentiment analysis (SENTIMENT_ANALYSIS).\n",
    "- Provide a concise explanation for your decision, referencing specific points from the inputs to justify your conclusion.\n",
    "\n",
    "Your decision should be definitive and well-justified. Do not provide ambiguous recommendations. Make a clear decision with a concise and confident explanation based on the provided data. Remember, you are the decision-maker here. You should be confident about your decision.\n",
    "\n",
    "Return your findings as a JSON object with a single key 'final_decision' containing two fields: 'decision' (whether \"proceed\" or \"do not proceed\") and 'explanation'. Do not include any preamble or explanation apart from this JSON object.<|eot_id|><|start_header_id|>user<|end_header_id|>\n",
    "\n",
    "USER_MESSAGE: {user_message}\n",
    "\n",
    "CATEGORIZED_RESULTS: {categorized_results}\n",
    "\n",
    "RESEARCH_INFO: {research_info}\n",
    "\n",
    "STRATEGY_ANALYSIS: {strategy_analysis}\n",
    "\n",
    "RISK_ASSESSMENT: {risk_assessment}\n",
    "\n",
    "SENTIMENT_ANALYSIS: {sentiment_analysis}\\n\\n<|eot_id|><|start_header_id|>assistant<|end_header_id|>\"\"\",\n",
    "    input_variables=[\"user_message\",\"categorized_results\",\"research_info\",\"strategy_analysis\",\"risk_assessment\", \"sentiment_analysis\"],\n",
    ")\n",
    "\n",
    "decision_chain = decision_prompt | GROQ_LLM | JsonOutputParser()\n",
    "\n",
    "final_decision = decision_chain.invoke({\"user_message\": user_message, \"categorized_results\": categorized_results, \"research_info\": full_searches, \"strategy_analysis\": strategy_analysis, \"risk_assessment\": risk_assessment, \"sentiment_analysis\": sentiment_analysis})\n",
    "\n",
    "print(final_decision)"
   ]
  },
  {
   "cell_type": "code",
   "execution_count": 12,
   "metadata": {
    "colab": {
     "base_uri": "https://localhost:8080/"
    },
    "id": "MCy4hgJZ3wrP",
    "outputId": "b08744bc-885f-46b9-9ff6-90b500d3b7c1"
   },
   "outputs": [
    {
     "name": "stdout",
     "output_type": "stream",
     "text": [
      "{'summary': \"Based on the final decision, it is recommended to proceed with the long-term trading strategy for Apple (AAPL) stock. The user's medium risk tolerance aligns with the long-term strategy, which focuses on stability and growth. The potential for growth in the short and long term, as well as the increasing price targets from analysts, suggest that the strategy has potential profitability. While there are risks associated with AAPL, the long-term strategy can help mitigate these risks and focus on the company's growth and performance.\\n\\nThe research information provided suggests that AAPL has a strong potential for growth in the long term, with a predicted stock price of $299.14 by 2030, $1,221.47 by 2040, and $1,589.26 by 2050. The average 12-month price target for AAPL is $239.44, with a high estimate of $300.00 and a low estimate of $180.00. This suggests that the stock has potential for growth in the short term as well.\\n\\nThe strategy analysis also suggests that the long-term trading strategy for AAPL is suitable for the user's medium risk tolerance. The strategy's focus on stability and growth aligns with the user's risk tolerance, and the potential for growth in the short and long term suggests that the strategy has potential profitability.\\n\\nHowever, there are risks associated with AAPL, including problems in China, an ongoing patent battle, and potential changes to the company's business model. These risks could potentially lead to a decline in AAPL's stock price. However, the long-term strategy can help mitigate these risks by allowing the user to ride out market fluctuations and focus on the company's overall growth and performance.\\n\\nThe risk assessment also suggests that the user's medium risk tolerance aligns with the long-term strategy. The user's willingness to take some risks for long-term benefits makes this strategy suitable. The potential financial impact of the risks associated with AAPL is uncertain, but the long-term strategy can help mitigate these risks.\\n\\nThe sentiment analysis also suggests that the overall sentiment towards proceeding with the long-term trading strategy for AAPL is positive. The user's medium risk tolerance aligns with the long-term strategy, which focuses on stability and growth. The potential for growth in the short and long term, as well as the increasing price targets from analysts, suggest that the strategy has potential profitability.\\n\\nTherefore, based on the analysis, it is recommended to proceed with the long-term trading strategy for AAPL. The user's medium risk tolerance aligns with the long-term strategy, which focuses on stability and growth. The potential for growth in the short and long term, as well as the increasing price targets from analysts, suggest that the strategy has potential profitability. While there are risks associated with AAPL, the long-term strategy can help mitigate these risks and focus on the company's growth and performance.\"}\n"
     ]
    }
   ],
   "source": [
    "presentation_prompt = PromptTemplate(\n",
    "    template=\"\"\"<|begin_of_text|><|start_header_id|>system<|end_header_id|>\n",
    "\n",
    "You are the Presentation Agent, an expert in summarizing complex financial analyses to end users. Your task is to provide a detailed and clear explanation of the final decision on whether to proceed with the trading strategy for the given stock. This explanation should be long and thorough, starting with the final decision and explaining everything that led to this decision.\n",
    "\n",
    "Given the USER_MESSAGE, CATEGORIZED_RESULTS which includes STOCK_TICKER, RISK_TOLERANCE, and TRADING_STRATEGY, RESEARCH_INFO, STRATEGY_ANALYSIS, RISK_ASSESSMENT, SENTIMENT_ANALYSIS, and FINAL_DECISION, create a comprehensive summary.\n",
    "\n",
    "Your summary should:\n",
    "- Start with the final decision that is stated in FINAL_DECISION.\n",
    "- Explain the reasoning behind this decision in detail, referencing specific findings from the research information, strategy analysis, risk assessment, and sentiment analysis.\n",
    "- Ensure that the explanation is long and thorough, providing a clear understanding of the entire decision-making process.\n",
    "\n",
    "Return your findings as a JSON object with a single key 'summary' containing your explanation. Do not include any preamble or explanation apart from this JSON object.<|eot_id|><|start_header_id|>user<|end_header_id|>\n",
    "\n",
    "USER_MESSAGE: {user_message}\n",
    "\n",
    "CATEGORIZED_RESULTS: {categorized_results}\n",
    "\n",
    "RESEARCH_INFO: {research_info}\n",
    "\n",
    "STRATEGY_ANALYSIS: {strategy_analysis}\n",
    "\n",
    "RISK_ASSESSMENT: {risk_assessment}\n",
    "\n",
    "SENTIMENT_ANALYSIS: {sentiment_analysis}\n",
    "\n",
    "FINAL_DECISION: {final_decision}\\n\\n<|eot_id|><|start_header_id|>assistant<|end_header_id|>\"\"\",\n",
    "    input_variables=[\"user_message\",\"categorized_results\",\"research_info\",\"strategy_analysis\",\"risk_assessment\", \"sentiment_analysis\",\"final_decision\"],\n",
    ")\n",
    "\n",
    "presentation_chain = presentation_prompt | GROQ_LLM | JsonOutputParser()\n",
    "\n",
    "summary = presentation_chain.invoke({\"user_message\": user_message, \"categorized_results\": categorized_results, \"research_info\": full_searches, \"strategy_analysis\": strategy_analysis, \"risk_assessment\": risk_assessment, \"sentiment_analysis\": sentiment_analysis, \"final_decision\":final_decision})\n",
    "\n",
    "print(summary)"
   ]
  },
  {
   "cell_type": "code",
   "execution_count": 13,
   "metadata": {
    "id": "B2bf-0hYHbV5"
   },
   "outputs": [],
   "source": [
    "### State\n",
    "class GraphState(TypedDict):\n",
    "    user_message : str\n",
    "    categorized_results : str\n",
    "    research_info : List[str]\n",
    "    strategy_analysis : str\n",
    "    risk_assessment : str\n",
    "    sentiment_analysis : str\n",
    "    final_decision : str\n",
    "    summary : str\n",
    "    num_steps : int"
   ]
  },
  {
   "cell_type": "code",
   "execution_count": 14,
   "metadata": {
    "id": "1slKnrcEWK1G"
   },
   "outputs": [],
   "source": [
    "def categorize_message(state):\n",
    "    \"\"\"take the initial message and categorize it\"\"\"\n",
    "    print(\"---CATEGORIZING INITIAL USER MESSAGE---\")\n",
    "    user_message = state['user_message']\n",
    "    num_steps = int(state['num_steps'])\n",
    "    num_steps += 1\n",
    "\n",
    "    print(user_message)\n",
    "    categorized_results = json_generator.invoke({\"user_message\": user_message})\n",
    "    print(categorized_results['categorized_results'])\n",
    "\n",
    "    return {\"categorized_results\": categorized_results['categorized_results'], \"num_steps\":num_steps}"
   ]
  },
  {
   "cell_type": "code",
   "execution_count": 15,
   "metadata": {
    "id": "oEr880M_XzIa"
   },
   "outputs": [],
   "source": [
    "def research_info_search(state):\n",
    "    print(\"---SEARCHING THE WEB---\")\n",
    "    user_message = state['user_message']\n",
    "    categorized_results = state['categorized_results']\n",
    "    research_info = state[\"research_info\"]\n",
    "    num_steps = state['num_steps']\n",
    "    num_steps += 1\n",
    "\n",
    "    # Web search\n",
    "    keywords = search_keyword_chain.invoke({\"user_message\": user_message, \"categorized_results\": categorized_results})\n",
    "    \n",
    "    full_searches = []\n",
    "    for keyword in keywords['search_prompts']:\n",
    "        print(keyword)\n",
    "        temp_docs = web_search_tool.invoke({\"query\": keyword})\n",
    "        web_results = \"\\n\".join([d[\"content\"] for d in temp_docs])\n",
    "        web_results = Document(page_content=web_results)\n",
    "        if full_searches is not None:\n",
    "            full_searches.append(web_results)\n",
    "        else:\n",
    "            full_searches = [web_results]\n",
    "\n",
    "    return {\"research_info\": full_searches, \"num_steps\":num_steps}"
   ]
  },
  {
   "cell_type": "code",
   "execution_count": 16,
   "metadata": {
    "id": "uzgjqmYc2Iwt"
   },
   "outputs": [],
   "source": [
    "def strategy_writer(state):\n",
    "    print(\"---STRATEGY WRITER---\")\n",
    "    ## Get the state\n",
    "    user_message = state[\"user_message\"]\n",
    "    categorized_results = state[\"categorized_results\"]\n",
    "    research_info = state[\"research_info\"]\n",
    "    num_steps = state['num_steps']\n",
    "    num_steps += 1\n",
    "\n",
    "    strategy_analysis = strategy_chain.invoke({\"user_message\": user_message, \"categorized_results\": categorized_results, \"research_info\": research_info})\n",
    "    print(strategy_analysis['strategy_analysis'])\n",
    "\n",
    "    return {\"strategy_analysis\": strategy_analysis['strategy_analysis'], \"num_steps\":num_steps}"
   ]
  },
  {
   "cell_type": "code",
   "execution_count": 17,
   "metadata": {
    "id": "r4pv1SFl29AC"
   },
   "outputs": [],
   "source": [
    "def assess_risks(state):\n",
    "    print(\"---RISK ASSESSER---\")\n",
    "    ## Get the state\n",
    "    user_message = state[\"user_message\"]\n",
    "    categorized_results = state[\"categorized_results\"]\n",
    "    research_info = state[\"research_info\"]\n",
    "    strategy_analysis = state[\"strategy_analysis\"]\n",
    "    num_steps = state['num_steps']\n",
    "    num_steps += 1\n",
    "\n",
    "    risk_assessment = risk_assessment_chain.invoke({\"user_message\": user_message, \"categorized_results\": categorized_results, \"research_info\": research_info, \"strategy_analysis\": strategy_analysis})\n",
    "    print(risk_assessment['risk_assessment'])\n",
    "\n",
    "    return {\"risk_assessment\": risk_assessment['risk_assessment'], \"num_steps\":num_steps}"
   ]
  },
  {
   "cell_type": "code",
   "execution_count": 18,
   "metadata": {
    "id": "mfQJVhUudk7D"
   },
   "outputs": [],
   "source": [
    "def analyse_sentiment(state):\n",
    "    print(\"---ANALYSE SENTIMENT ---\")\n",
    "    ## Get the state\n",
    "    user_message = state[\"user_message\"]\n",
    "    categorized_results = state[\"categorized_results\"]\n",
    "    research_info = state[\"research_info\"]\n",
    "    strategy_analysis = state[\"strategy_analysis\"]\n",
    "    risk_assessment = state[\"risk_assessment\"]\n",
    "    num_steps = state['num_steps']\n",
    "    num_steps += 1\n",
    "\n",
    "    sentiment_analysis = sentiment_chain.invoke({\"user_message\": user_message,\n",
    "                                                 \"categorized_results\": categorized_results,\n",
    "                                                 \"research_info\": research_info,\n",
    "                                                 \"strategy_analysis\": strategy_analysis,\n",
    "                                                 \"risk_assessment\": risk_assessment}\n",
    "                                                )\n",
    "    print(sentiment_analysis['sentiment_analysis'])\n",
    "\n",
    "    return {\"sentiment_analysis\": sentiment_analysis['sentiment_analysis'], \"num_steps\":num_steps}"
   ]
  },
  {
   "cell_type": "code",
   "execution_count": 19,
   "metadata": {
    "id": "zRnxGMzOeSbE"
   },
   "outputs": [],
   "source": [
    "def decide_final(state):\n",
    "    print(\"---DECIDE FINAL ---\")\n",
    "    ## Get the state\n",
    "    user_message = state[\"user_message\"]\n",
    "    categorized_results = state[\"categorized_results\"]\n",
    "    research_info = state[\"research_info\"]\n",
    "    strategy_analysis = state[\"strategy_analysis\"]\n",
    "    risk_assessment = state[\"risk_assessment\"]\n",
    "    sentiment_analysis = state[\"sentiment_analysis\"]\n",
    "    num_steps = state['num_steps']\n",
    "    num_steps += 1\n",
    "\n",
    "    final_decision = decision_chain.invoke({\"user_message\": user_message,\n",
    "                                            \"categorized_results\": categorized_results,\n",
    "                                            \"research_info\": research_info,\n",
    "                                            \"strategy_analysis\": strategy_analysis,\n",
    "                                            \"risk_assessment\": risk_assessment,\n",
    "                                            \"sentiment_analysis\": sentiment_analysis}\n",
    "                                           )\n",
    "    print(final_decision['final_decision'])\n",
    "\n",
    "    return {\"final_decision\": final_decision['final_decision'], \"num_steps\":num_steps}"
   ]
  },
  {
   "cell_type": "code",
   "execution_count": 20,
   "metadata": {
    "id": "holZTZVdfAfi"
   },
   "outputs": [],
   "source": [
    "def make_presentation(state):\n",
    "    print(\"---MAKE PRESENTATION---\")\n",
    "    ## Get the state\n",
    "    user_message = state[\"user_message\"]\n",
    "    categorized_results = state[\"categorized_results\"]\n",
    "    research_info = state[\"research_info\"]\n",
    "    strategy_analysis = state[\"strategy_analysis\"]\n",
    "    risk_assessment = state[\"risk_assessment\"]\n",
    "    sentiment_analysis = state[\"sentiment_analysis\"]\n",
    "    final_decision = state['final_decision']\n",
    "    num_steps = state['num_steps']\n",
    "    num_steps += 1\n",
    "\n",
    "    summary = presentation_chain.invoke({\"user_message\": user_message,\n",
    "                                         \"categorized_results\": categorized_results,\n",
    "                                         \"research_info\": research_info,\n",
    "                                         \"strategy_analysis\": strategy_analysis,\n",
    "                                         \"risk_assessment\": risk_assessment,\n",
    "                                         \"sentiment_analysis\": sentiment_analysis,\n",
    "                                         \"final_decision\":final_decision}\n",
    "                                        )\n",
    "    print(summary['summary'])\n",
    "\n",
    "    return {\"summary\": summary['summary'], \"num_steps\":num_steps}"
   ]
  },
  {
   "cell_type": "code",
   "execution_count": 21,
   "metadata": {
    "id": "2jMK4Q8jf75-"
   },
   "outputs": [],
   "source": [
    "def state_printer(state):\n",
    "    \"\"\"print the state\"\"\"\n",
    "    print(\"---STATE PRINTER---\")\n",
    "    print(f\"User Message: {state['user_message']} \\n\" )\n",
    "    print(f\"Categorized Results: {state['categorized_results']} \\n\")\n",
    "    print(f\"Research Info: {state['research_info']} \\n\" )\n",
    "    print(f\"Strategy Analysis: {state['strategy_analysis']} \\n\" )\n",
    "    print(f\"Risk Assessment: {state['risk_assessment']} \\n\")\n",
    "    print(f\"Sentiment Analysis: {state['sentiment_analysis']} \\n\")\n",
    "    print(f\"Final Decision: {state['final_decision']} \\n\")\n",
    "    print(f\"Summary: {state['summary']} \\n\")\n",
    "    print(f\"Num Steps: {state['num_steps']} \\n\")\n",
    "    return"
   ]
  },
  {
   "cell_type": "code",
   "execution_count": 22,
   "metadata": {
    "id": "MDxLhULhh26Z"
   },
   "outputs": [
    {
     "data": {
      "text/plain": [
       "<langgraph.graph.state.StateGraph at 0x1a200dc7dd0>"
      ]
     },
     "execution_count": 22,
     "metadata": {},
     "output_type": "execute_result"
    }
   ],
   "source": [
    "workflow = StateGraph(GraphState)\n",
    "\n",
    "# Define the nodes\n",
    "workflow.add_node(\"categorize_message\", categorize_message)\n",
    "workflow.add_node(\"research_info_search\", research_info_search)\n",
    "workflow.add_node(\"strategy_writer\", strategy_writer)\n",
    "workflow.add_node(\"assess_risks\", assess_risks)\n",
    "workflow.add_node(\"analyse_sentiment\", analyse_sentiment)\n",
    "workflow.add_node(\"decide_final\", decide_final)\n",
    "workflow.add_node(\"make_presentation\", make_presentation)"
   ]
  },
  {
   "cell_type": "code",
   "execution_count": 23,
   "metadata": {
    "id": "YZupyFOiiY6j"
   },
   "outputs": [
    {
     "data": {
      "text/plain": [
       "<langgraph.graph.state.StateGraph at 0x1a200dc7dd0>"
      ]
     },
     "execution_count": 23,
     "metadata": {},
     "output_type": "execute_result"
    }
   ],
   "source": [
    "workflow.set_entry_point(\"categorize_message\")\n",
    "workflow.add_edge(\"categorize_message\", \"research_info_search\")\n",
    "workflow.add_edge(\"research_info_search\", \"strategy_writer\")\n",
    "workflow.add_edge(\"strategy_writer\", \"assess_risks\")\n",
    "workflow.add_edge(\"assess_risks\", \"analyse_sentiment\")\n",
    "workflow.add_edge(\"analyse_sentiment\", \"decide_final\")\n",
    "workflow.add_edge(\"decide_final\", \"make_presentation\")\n",
    "workflow.add_edge(\"make_presentation\", END)"
   ]
  },
  {
   "cell_type": "code",
   "execution_count": 24,
   "metadata": {
    "id": "Ztz7-YiNjOua"
   },
   "outputs": [],
   "source": [
    "# Compile\n",
    "app = workflow.compile()"
   ]
  },
  {
   "cell_type": "code",
   "execution_count": 30,
   "metadata": {
    "id": "cciOuwS1jQoD"
   },
   "outputs": [],
   "source": [
    "EMAIL = \"\"\"I am interested in trading apple stock. I prefer day trading, I don't want to lose my money if it is risky to enter the market at the moment.\"\"\"\n",
    "# EMAIL = \"\"\"I am interested in trading google stock. I prefer long-term investment, I am open to take risks in short term if it is going to end in my benefit in the long run.\"\"\"\n",
    "# EMAIL = \"\"\"I am considering investing in Tesla stock. I have a medium risk tolerance and prefer a swing trading strategy. I'm looking to capitalize on short-term price movements and hold the stock for a few weeks to a few months.\"\"\"\n",
    "# EMAIL = \"\"\"I want to invest all my savings into penny stocks because I heard they can give high returns very quickly. I don't really have any experience with trading and I'm okay with taking big risks to try and make a lot of money fast.\"\"\"\n",
    "# EMAIL = \"\"\"I want to invest in a stock. My risk tolerance is also medium and my trading strategy is swing trading. Could you analyze if this investment is suitable for me and provide any stock recommendations?\"\"\""
   ]
  },
  {
   "cell_type": "code",
   "execution_count": 32,
   "metadata": {
    "colab": {
     "base_uri": "https://localhost:8080/"
    },
    "id": "nTJxWri7jX8q",
    "outputId": "6ca31b71-e6c1-4ca7-f265-c05f7a3e108b"
   },
   "outputs": [
    {
     "name": "stdout",
     "output_type": "stream",
     "text": [
      "---CATEGORIZING INITIAL USER MESSAGE---\n",
      "I am interested in trading apple stock. I prefer day trading, I don't want to lose my money if it is risky to enter the market at the moment.\n",
      "{'stock': 'AAPL', 'risk_tolerance': 'Very Low', 'trading_strategy': 'Day Trading'}\n",
      "'Finished running: categorize_message:'\n",
      "---SEARCHING THE WEB---\n",
      "Current AAPL stock price and historical price trends over the past year\n",
      "AAPL day trading predictions for the next 24 hours\n",
      "Financial analyst predictions for AAPL stock\n",
      "Recent news and developments affecting AAPL stock\n",
      "Low-risk day trading strategies for AAPL stock with stop-loss management\n",
      "'Finished running: research_info_search:'\n",
      "---STRATEGY WRITER---\n",
      "{'suitability': \"Based on the provided research information, the specified trading strategy of Day Trading for Apple stock (AAPL) may not be suitable for a user with a Very Low risk tolerance. The stock's current price is around $230, and the 12-month price forecasts by analysts have an average target of $239.44, with a low estimate of $180 and a high estimate of $300. However, the stock's historical performance and technical indicators suggest that it can be volatile, which may not align with the user's risk tolerance.\", 'potential_profitability': \"The potential profitability of the Day Trading strategy for Apple stock (AAPL) is uncertain and may be influenced by various market and economic factors. The stock's historical performance suggests that it can be profitable in the long term, with a 3-year price compound annual growth rate of 17.12%. However, the short-term price movements can be volatile, and the user's very low risk tolerance may not be compatible with the potential risks associated with day trading.\", 'risks': \"The risks associated with Day Trading Apple stock (AAPL) include market volatility, liquidity risks, and the potential for significant losses if the user's trades do not perform as expected. The stock's historical performance suggests that it can be volatile, with a 52-week low of $164.07 and a 52-week high of $236.48. The user's very low risk tolerance may not be compatible with the potential risks associated with day trading, and the user may want to consider alternative investment strategies that align better with their risk profile.\", 'recommendations': \"Based on the analysis, I recommend against proceeding with the Day Trading strategy for Apple stock (AAPL) given the user's Very Low risk tolerance. The potential risks associated with day trading may be too high for the user's comfort level, and alternative investment strategies may be more suitable. If the user is still interested in trading Apple stock, I recommend considering a longer-term investment strategy that aligns better with their risk profile.\", 'current_and_projected_prices': {'current_price': '$230.10', 'projected_price_24_hours': \"Given the uncertainty and volatility associated with day trading, I do not provide a specific price prediction for the next 24 hours. However, the stock's historical performance suggests that it can be volatile, and the user should be prepared for potential price movements in either direction.\"}, 'strategy_explanation': 'If the user decides to proceed with a trading strategy for Apple stock (AAPL), I recommend considering a longer-term investment strategy that aligns better with their risk profile. This could include a buy-and-hold strategy or a strategy that involves dollar-cost averaging. The user should also consider consulting with a financial advisor or conducting their own research before making any investment decisions.'}\n",
      "'Finished running: strategy_writer:'\n",
      "---RISK ASSESSER---\n",
      "{'specific_risks': {'market_volatility': \"The stock's historical performance suggests that it can be volatile, with a 52-week low of $164.07 and a 52-week high of $236.48.\", 'liquidity_risks': \"The stock's liquidity may be affected by market conditions, which could impact the user's ability to buy or sell the stock quickly and at a fair price.\", 'potential_for_significant_losses': \"The user's trades may not perform as expected, resulting in significant losses if not managed properly.\"}, 'potential_financial_impact': {'potential_loss': 'The user may lose up to 100% of their investment if the stock price drops significantly and they are unable to sell their shares quickly enough.', 'potential_gain': \"The stock's historical performance suggests that it can be profitable in the long term, with a 3-year price compound annual growth rate of 17.12%.\"}, 'alignment_with_user_risk_tolerance': {'compatibility': \"The user's Very Low risk tolerance may not be compatible with the potential risks associated with day trading Apple stock (AAPL).\"}, 'final_risk_assessment_conclusion': {'decision': \"Based on the analysis, I recommend against proceeding with the Day Trading strategy for Apple stock (AAPL) given the user's Very Low risk tolerance.\", 'reasoning': \"The potential risks associated with day trading may be too high for the user's comfort level, and alternative investment strategies may be more suitable.\"}}\n",
      "'Finished running: assess_risks:'\n",
      "---ANALYSE SENTIMENT ---\n",
      "{'sentiment': 'Negative', 'explanation': \"The overall sentiment towards proceeding with the Day Trading strategy for Apple stock (AAPL) is negative due to the user's Very Low risk tolerance. The potential risks associated with day trading, including market volatility, liquidity risks, and the potential for significant losses, may be too high for the user's comfort level. The user's risk tolerance is not compatible with the potential risks associated with day trading, and alternative investment strategies may be more suitable. The strategy analysis and risk assessment both conclude that the user should consider a longer-term investment strategy that aligns better with their risk profile.\"}\n",
      "'Finished running: analyse_sentiment:'\n",
      "---DECIDE FINAL ---\n",
      "{'decision': 'do not proceed', 'explanation': \"Based on the analysis, the Day Trading strategy for Apple stock (AAPL) is not suitable for the user due to their Very Low risk tolerance. The potential risks associated with day trading, including market volatility, liquidity risks, and the potential for significant losses, may be too high for the user's comfort level. Alternative investment strategies, such as a longer-term buy-and-hold strategy or dollar-cost averaging, may be more suitable for the user's risk profile. The overall sentiment towards proceeding with the Day Trading strategy is negative, and the strategy analysis and risk assessment both conclude that the user should consider a longer-term investment strategy that aligns better with their risk profile.\"}\n",
      "'Finished running: decide_final:'\n",
      "---MAKE PRESENTATION---\n",
      "The final decision is to not proceed with the Day Trading strategy for Apple stock (AAPL) due to the user's Very Low risk tolerance. This decision is based on a comprehensive analysis of the provided research information, strategy analysis, risk assessment, and sentiment analysis. \n",
      "\n",
      "The research information provided indicates that Apple stock has been performing well, with a 3-year price compound annual growth rate of 17.12% and a 12-month price forecast with an average target of $239.44. However, the stock's historical performance also suggests that it can be volatile, with a 52-week low of $164.07 and a 52-week high of $236.48.\n",
      "\n",
      "The strategy analysis concludes that the Day Trading strategy may not be suitable for the user due to their Very Low risk tolerance. The potential risks associated with day trading, including market volatility, liquidity risks, and the potential for significant losses, may be too high for the user's comfort level. The analysis recommends considering a longer-term investment strategy that aligns better with the user's risk profile.\n",
      "\n",
      "The risk assessment identifies specific risks associated with day trading Apple stock, including market volatility, liquidity risks, and the potential for significant losses. The assessment concludes that the user's Very Low risk tolerance may not be compatible with the potential risks associated with day trading and recommends against proceeding with the strategy.\n",
      "\n",
      "The sentiment analysis also concludes that the overall sentiment towards proceeding with the Day Trading strategy is negative due to the user's Very Low risk tolerance. The analysis highlights that alternative investment strategies, such as a longer-term buy-and-hold strategy or dollar-cost averaging, may be more suitable for the user's risk profile.\n",
      "\n",
      "In conclusion, the comprehensive analysis suggests that the Day Trading strategy for Apple stock (AAPL) is not suitable for the user due to their Very Low risk tolerance. The potential risks associated with day trading, including market volatility, liquidity risks, and the potential for significant losses, may be too high for the user's comfort level. Alternative investment strategies that align better with the user's risk profile are recommended.\n",
      "'Finished running: make_presentation:'\n"
     ]
    }
   ],
   "source": [
    "# Run the agent\n",
    "inputs = {\"user_message\": EMAIL,\"research_info\": None, \"num_steps\":0}\n",
    "for output in app.stream(inputs):\n",
    "    for key, value in output.items():\n",
    "        pprint(f\"Finished running: {key}:\")"
   ]
  },
  {
   "cell_type": "code",
   "execution_count": 33,
   "metadata": {
    "colab": {
     "base_uri": "https://localhost:8080/"
    },
    "id": "4Bq26A81jk6O",
    "outputId": "438b2410-7c72-4e4c-c381-75dc157a373f"
   },
   "outputs": [
    {
     "name": "stdout",
     "output_type": "stream",
     "text": [
      "The final decision is to not proceed with the Day Trading strategy for Apple stock (AAPL) due to the user's Very Low risk tolerance. This decision is based on a comprehensive analysis of the provided research information, strategy analysis, risk assessment, and sentiment analysis. \n",
      "\n",
      "The research information provided indicates that Apple stock has been performing well, with a 3-year price compound annual growth rate of 17.12% and a 12-month price forecast with an average target of $239.44. However, the stock's historical performance also suggests that it can be volatile, with a 52-week low of $164.07 and a 52-week high of $236.48.\n",
      "\n",
      "The strategy analysis concludes that the Day Trading strategy may not be suitable for the user due to their Very Low risk tolerance. The potential risks associated with day trading, including market volatility, liquidity risks, and the potential for significant losses, may be too high for the user's comfort level. The analysis recommends considering a longer-term investment strategy that aligns better with the user's risk profile.\n",
      "\n",
      "The risk assessment identifies specific risks associated with day trading Apple stock, including market volatility, liquidity risks, and the potential for significant losses. The assessment concludes that the user's Very Low risk tolerance may not be compatible with the potential risks associated with day trading and recommends against proceeding with the strategy.\n",
      "\n",
      "The sentiment analysis also concludes that the overall sentiment towards proceeding with the Day Trading strategy is negative due to the user's Very Low risk tolerance. The analysis highlights that alternative investment strategies, such as a longer-term buy-and-hold strategy or dollar-cost averaging, may be more suitable for the user's risk profile.\n",
      "\n",
      "In conclusion, the comprehensive analysis suggests that the Day Trading strategy for Apple stock (AAPL) is not suitable for the user due to their Very Low risk tolerance. The potential risks associated with day trading, including market volatility, liquidity risks, and the potential for significant losses, may be too high for the user's comfort level. Alternative investment strategies that align better with the user's risk profile are recommended.\n"
     ]
    }
   ],
   "source": [
    "print(output['make_presentation']['summary'])"
   ]
  },
  {
   "cell_type": "code",
   "execution_count": null,
   "metadata": {
    "id": "TPTxPPro6gx2"
   },
   "outputs": [],
   "source": []
  }
 ],
 "metadata": {
  "colab": {
   "provenance": []
  },
  "kernelspec": {
   "display_name": "financial-advisor-env",
   "language": "python",
   "name": "financial-advisor-env"
  },
  "language_info": {
   "codemirror_mode": {
    "name": "ipython",
    "version": 3
   },
   "file_extension": ".py",
   "mimetype": "text/x-python",
   "name": "python",
   "nbconvert_exporter": "python",
   "pygments_lexer": "ipython3",
   "version": "3.12.7"
  }
 },
 "nbformat": 4,
 "nbformat_minor": 0
}
